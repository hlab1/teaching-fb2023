{
 "cells": [
  {
   "cell_type": "markdown",
   "metadata": {},
   "source": [
    "## DNA sequence statistics (1)"
   ]
  },
  {
   "cell_type": "markdown",
   "metadata": {},
   "source": [
    "### R packages/libraries\n",
    "\n",
    "Many people have written functions for doing analysis in R. The functions are put in R **packages** and **libraries** that must be installed or loaded so the functions can be used."
   ]
  },
  {
   "cell_type": "markdown",
   "metadata": {},
   "source": [
    "### Getting started\n",
    "\n",
    "1. In the \"my_notebooks/week01\" folder, open a notebook from this URL https://raw.githubusercontent.com/hlab1/teaching-fb2023/main/week01/w01p2_dnaseq1.ipynb.\n",
    "2. Clear all outputs by \"Kernel\"->\"Restart Kernel and Clear All Outputs\".\n",
    "\n",
    "At any time if you want to stop the notebook, remember to \"Save and create checkpoint\" your notebook before doing \"Close and Shutdown Notebook\". And \"Stop My Server\" when you are done."
   ]
  },
  {
   "cell_type": "code",
   "execution_count": null,
   "metadata": {},
   "outputs": [],
   "source": [
    "library(\"rentrez\")\n",
    "library(\"seqinr\")\n",
    "library(\"XML\")"
   ]
  },
  {
   "cell_type": "markdown",
   "metadata": {},
   "source": [
    "### Retriving genome sequence data via NCBI website\n",
    "\n",
    "We will now go to the NCBI website to retrieve the genome sequence of the Dengue virus type 1 DEN-1, which has the accession number NC_001477.\n",
    "1. Go to http://www.ncbi.nlm.nih.gov/.\n",
    "2. Enter \"NC_001477\" in the search box \"All Databases\".\n",
    "3. On the results page, click on the \"Nucleotide\" entry under \"Genomes\".\n",
    "4. Take a look at the results page, and identify some **attributes** of this **record**.\n",
    "5. Click on the \"FASTA\" link. This shows the sequencce of the genome in **FASTA** format."
   ]
  },
  {
   "cell_type": "markdown",
   "metadata": {},
   "source": [
    "### Retrieving genome sequence data in R using the rentrez package\n",
    "\n",
    "We can also retrieve the genome sequence, put it in the memory of R and perform computational analysis.\n",
    "\n",
    "First we make our own function `getncbiseq` that allows us to get a sequence using its accession number.  This function is in the cell below.\n",
    "\n",
    "Pay attention to the first line, where we define the `function name` and the `arguments`, and don't worry about what's in the function."
   ]
  },
  {
   "cell_type": "code",
   "execution_count": 4,
   "metadata": {},
   "outputs": [],
   "source": [
    "getncbiseq <- function(db,accession) {\n",
    "    require(\"rentrez\")\n",
    "    require(\"seqinr\")\n",
    "    require(\"XML\")\n",
    "    res_xml <- entrez_fetch(db,accession,rettype=\"fasta\",retmode=\"xml\",parsed=TRUE)\n",
    "    res_list <- xmlToList(res_xml)\n",
    "    res_seq <- res_list[[1]][['TSeq_sequence']]\n",
    "    res_vec <- tolower(s2c(res_seq))\n",
    "    return(res_vec)\n",
    "}"
   ]
  },
  {
   "cell_type": "markdown",
   "metadata": {},
   "source": [
    "We can now call this function with to query the \"nuccore\" database with accession number \"NC_001477\" as arguments."
   ]
  },
  {
   "cell_type": "code",
   "execution_count": 5,
   "metadata": {},
   "outputs": [],
   "source": [
    "dengueseq <- getncbiseq(\"nuccore\",\"NC_001477\")"
   ]
  },
  {
   "cell_type": "markdown",
   "metadata": {},
   "source": [
    "Aside: a string without quotes is a variable name and a string inside quotes is a string.  So the `dengueseq` above is the name of a variable now holding the sequence of the Dengue genome. \"NC_001477\" is a string with value \"NC_001477\"\n",
    "\n",
    "The variable `dengueseq` now is a vector of single characters that contain the nucleotide sequence. Each element in the vector is one nucleotide. We can use single square bracket as before to get the nucleotides at specific positions."
   ]
  },
  {
   "cell_type": "code",
   "execution_count": 6,
   "metadata": {},
   "outputs": [
    {
     "data": {
      "text/html": [
       "<style>\n",
       ".list-inline {list-style: none; margin:0; padding: 0}\n",
       ".list-inline>li {display: inline-block}\n",
       ".list-inline>li:not(:last-child)::after {content: \"\\00b7\"; padding: 0 .5ex}\n",
       "</style>\n",
       "<ol class=list-inline><li>'a'</li><li>'g'</li><li>'t'</li><li>'t'</li><li>'g'</li><li>'t'</li><li>'t'</li><li>'a'</li><li>'g'</li><li>'t'</li><li>'c'</li><li>'t'</li><li>'a'</li><li>'c'</li><li>'g'</li><li>'t'</li><li>'g'</li><li>'g'</li><li>'a'</li><li>'c'</li><li>'c'</li><li>'g'</li><li>'a'</li><li>'c'</li><li>'a'</li><li>'a'</li><li>'g'</li><li>'a'</li><li>'a'</li><li>'c'</li><li>'a'</li><li>'g'</li><li>'t'</li><li>'t'</li><li>'t'</li><li>'c'</li><li>'g'</li><li>'a'</li><li>'a'</li><li>'t'</li><li>'c'</li><li>'g'</li><li>'g'</li><li>'a'</li><li>'a'</li><li>'g'</li><li>'c'</li><li>'t'</li><li>'t'</li><li>'g'</li></ol>\n"
      ],
      "text/latex": [
       "\\begin{enumerate*}\n",
       "\\item 'a'\n",
       "\\item 'g'\n",
       "\\item 't'\n",
       "\\item 't'\n",
       "\\item 'g'\n",
       "\\item 't'\n",
       "\\item 't'\n",
       "\\item 'a'\n",
       "\\item 'g'\n",
       "\\item 't'\n",
       "\\item 'c'\n",
       "\\item 't'\n",
       "\\item 'a'\n",
       "\\item 'c'\n",
       "\\item 'g'\n",
       "\\item 't'\n",
       "\\item 'g'\n",
       "\\item 'g'\n",
       "\\item 'a'\n",
       "\\item 'c'\n",
       "\\item 'c'\n",
       "\\item 'g'\n",
       "\\item 'a'\n",
       "\\item 'c'\n",
       "\\item 'a'\n",
       "\\item 'a'\n",
       "\\item 'g'\n",
       "\\item 'a'\n",
       "\\item 'a'\n",
       "\\item 'c'\n",
       "\\item 'a'\n",
       "\\item 'g'\n",
       "\\item 't'\n",
       "\\item 't'\n",
       "\\item 't'\n",
       "\\item 'c'\n",
       "\\item 'g'\n",
       "\\item 'a'\n",
       "\\item 'a'\n",
       "\\item 't'\n",
       "\\item 'c'\n",
       "\\item 'g'\n",
       "\\item 'g'\n",
       "\\item 'a'\n",
       "\\item 'a'\n",
       "\\item 'g'\n",
       "\\item 'c'\n",
       "\\item 't'\n",
       "\\item 't'\n",
       "\\item 'g'\n",
       "\\end{enumerate*}\n"
      ],
      "text/markdown": [
       "1. 'a'\n",
       "2. 'g'\n",
       "3. 't'\n",
       "4. 't'\n",
       "5. 'g'\n",
       "6. 't'\n",
       "7. 't'\n",
       "8. 'a'\n",
       "9. 'g'\n",
       "10. 't'\n",
       "11. 'c'\n",
       "12. 't'\n",
       "13. 'a'\n",
       "14. 'c'\n",
       "15. 'g'\n",
       "16. 't'\n",
       "17. 'g'\n",
       "18. 'g'\n",
       "19. 'a'\n",
       "20. 'c'\n",
       "21. 'c'\n",
       "22. 'g'\n",
       "23. 'a'\n",
       "24. 'c'\n",
       "25. 'a'\n",
       "26. 'a'\n",
       "27. 'g'\n",
       "28. 'a'\n",
       "29. 'a'\n",
       "30. 'c'\n",
       "31. 'a'\n",
       "32. 'g'\n",
       "33. 't'\n",
       "34. 't'\n",
       "35. 't'\n",
       "36. 'c'\n",
       "37. 'g'\n",
       "38. 'a'\n",
       "39. 'a'\n",
       "40. 't'\n",
       "41. 'c'\n",
       "42. 'g'\n",
       "43. 'g'\n",
       "44. 'a'\n",
       "45. 'a'\n",
       "46. 'g'\n",
       "47. 'c'\n",
       "48. 't'\n",
       "49. 't'\n",
       "50. 'g'\n",
       "\n",
       "\n"
      ],
      "text/plain": [
       " [1] \"a\" \"g\" \"t\" \"t\" \"g\" \"t\" \"t\" \"a\" \"g\" \"t\" \"c\" \"t\" \"a\" \"c\" \"g\" \"t\" \"g\" \"g\" \"a\"\n",
       "[20] \"c\" \"c\" \"g\" \"a\" \"c\" \"a\" \"a\" \"g\" \"a\" \"a\" \"c\" \"a\" \"g\" \"t\" \"t\" \"t\" \"c\" \"g\" \"a\"\n",
       "[39] \"a\" \"t\" \"c\" \"g\" \"g\" \"a\" \"a\" \"g\" \"c\" \"t\" \"t\" \"g\""
      ]
     },
     "metadata": {},
     "output_type": "display_data"
    }
   ],
   "source": [
    "dengueseq[1:50]"
   ]
  },
  {
   "cell_type": "markdown",
   "metadata": {},
   "source": [
    "We can write this sequence to a FASTA file.  Check back at your \"my_notebooks/week01\" folder.  You should now see the \"den1.fasta\" file."
   ]
  },
  {
   "cell_type": "code",
   "execution_count": null,
   "metadata": {},
   "outputs": [],
   "source": [
    "write.fasta(names=\"DEN-1\", sequences=dengueseq, file.out=\"den1.fasta\")"
   ]
  },
  {
   "cell_type": "markdown",
   "metadata": {},
   "source": [
    "Read the sequence file back into R."
   ]
  },
  {
   "cell_type": "code",
   "execution_count": null,
   "metadata": {},
   "outputs": [],
   "source": [
    "dengueseq_fromfile <- read.fasta(file = \"den1.fasta\")"
   ]
  },
  {
   "cell_type": "markdown",
   "metadata": {},
   "source": [
    "Now what is in this new `dengue_fromfile` object?"
   ]
  },
  {
   "cell_type": "code",
   "execution_count": null,
   "metadata": {},
   "outputs": [],
   "source": [
    "dengueseq_fromfile"
   ]
  },
  {
   "cell_type": "markdown",
   "metadata": {},
   "source": [
    "It is a list with one element, whose name is \"DEN-1\" and value is a vector of the sequence.  Let's get this vector."
   ]
  },
  {
   "cell_type": "code",
   "execution_count": null,
   "metadata": {},
   "outputs": [],
   "source": [
    "dengueseq_fromfile_seq <-dengueseq_fromfile[['DEN-1']]"
   ]
  },
  {
   "cell_type": "markdown",
   "metadata": {},
   "source": [
    "### Calculating some statistics of this sequence.\n",
    "\n",
    "Length and base composition:"
   ]
  },
  {
   "cell_type": "code",
   "execution_count": null,
   "metadata": {},
   "outputs": [],
   "source": [
    "length(dengueseq_fromfile_seq)"
   ]
  },
  {
   "cell_type": "code",
   "execution_count": null,
   "metadata": {},
   "outputs": [],
   "source": [
    "table(dengueseq_fromfile_seq)"
   ]
  },
  {
   "cell_type": "markdown",
   "metadata": {},
   "source": [
    "What is the GC content?"
   ]
  },
  {
   "cell_type": "code",
   "execution_count": null,
   "metadata": {},
   "outputs": [],
   "source": [
    "(2240+2770)/(3426+2240+2770+2299)"
   ]
  },
  {
   "cell_type": "code",
   "execution_count": null,
   "metadata": {},
   "outputs": [],
   "source": [
    "GC(dengueseq_fromfile_seq)"
   ]
  },
  {
   "cell_type": "markdown",
   "metadata": {},
   "source": [
    "Frequencies of DNA **words**:"
   ]
  },
  {
   "cell_type": "code",
   "execution_count": null,
   "metadata": {},
   "outputs": [],
   "source": [
    "count(dengueseq_fromfile_seq,1)"
   ]
  },
  {
   "cell_type": "markdown",
   "metadata": {},
   "source": [
    "What do you think this is? Take a look at the help of the `count` function."
   ]
  },
  {
   "cell_type": "code",
   "execution_count": null,
   "metadata": {},
   "outputs": [],
   "source": [
    "?count"
   ]
  },
  {
   "cell_type": "markdown",
   "metadata": {},
   "source": [
    "What if we add an argument, the number 2, when we call the `count` function?"
   ]
  },
  {
   "cell_type": "code",
   "execution_count": null,
   "metadata": {},
   "outputs": [],
   "source": [
    "count(dengueseq_fromfile_seq,2)"
   ]
  },
  {
   "cell_type": "markdown",
   "metadata": {},
   "source": [
    "You can save the results to a variable and retrieve the element that you are interested in."
   ]
  },
  {
   "cell_type": "code",
   "execution_count": null,
   "metadata": {},
   "outputs": [],
   "source": [
    "dengueseq_table_1bp <- count(dengueseq_fromfile_seq,1)\n",
    "dengue_table_2bp <- count(dengueseq_fromfile_seq,2)\n",
    "dengue_table_3bp <- count(dengueseq_fromfile_seq,3)"
   ]
  },
  {
   "cell_type": "code",
   "execution_count": null,
   "metadata": {},
   "outputs": [],
   "source": [
    "dengueseq_table_1bp[[\"c\"]]"
   ]
  },
  {
   "cell_type": "code",
   "execution_count": null,
   "metadata": {},
   "outputs": [],
   "source": [
    "dengue_table_2bp[[\"tt\"]]"
   ]
  },
  {
   "cell_type": "code",
   "execution_count": null,
   "metadata": {},
   "outputs": [],
   "source": [
    "dengue_table_3bp[[\"atg\"]]"
   ]
  },
  {
   "cell_type": "markdown",
   "metadata": {},
   "source": [
    "### Finding specific DNA words in a sequence\n",
    "\n",
    "`count` gives you the number of occurrences of each DNA words in a sequence, for example, the number of times the start codon 'ATG' is found. What if we want to find where the 'ATG' are in the sequence?\n",
    "\n",
    "You can use the `matchPattern` function in the *Biostrings* package.  The first argument is a pattern string, in our case 'atg'. The second argument is the sequence where the pattern will be searched. This argument needs to be a string.  Since the genome sequence `dengueseq_fromfile_seq` is a vector of single charaters, we can use the `c2s()` function to convert it to a string."
   ]
  },
  {
   "cell_type": "code",
   "execution_count": null,
   "metadata": {},
   "outputs": [],
   "source": [
    "dengueseq_string <- c2s(dengueseq_fromfile_seq)\n",
    "dengueseq_string"
   ]
  },
  {
   "cell_type": "code",
   "execution_count": null,
   "metadata": {},
   "outputs": [],
   "source": [
    "library(Biostrings)\n",
    "matchPattern('atg',dengueseq_string)"
   ]
  },
  {
   "cell_type": "markdown",
   "metadata": {},
   "source": [
    "From the result in `dengue_table_3bp[['atg]]` we know there are 292 occurrences of the string 'atg'. This consistent with the results returned by the `matchPattern` function.\n",
    "\n",
    "Remember to \"Save and create checkpoint\" your notebook before doing \"Close and Shutdown Notebook\"."
   ]
  },
  {
   "cell_type": "markdown",
   "metadata": {},
   "source": [
    "### Exercises\n",
    "\n",
    "The accession number for the genome sequence of the Severe acute respiratory syndrome coronavirus 2 (SARS-CoV-2) is \"MN908947\" in the database \"nuccore\".\n",
    "\n",
    "Q1. What is the GC content of this genome?  How many times does the DNA words ATG occur in the genome?\n",
    "\n",
    "Q2. The `comp` function in the `seqinr` package can compute the complement of a nucleotide sequence.  How many times does each of A, C, G, T occur in the complement of the SARS-CoV-2 genome?  How do the numbers compare to the numbers in the original sequence?\n",
    "\n",
    "Q3. The positions 28274 to 29533 of the genome encodes a nucleocapsid phosphoprotein. Use the `translate` function in the `seqinr` package to get the amino acid sequence of this protein."
   ]
  },
  {
   "cell_type": "code",
   "execution_count": null,
   "metadata": {},
   "outputs": [],
   "source": []
  }
 ],
 "metadata": {
  "kernelspec": {
   "display_name": "R [conda env:r_4.1]",
   "language": "R",
   "name": "conda-env-r_4.1-r"
  },
  "language_info": {
   "codemirror_mode": "r",
   "file_extension": ".r",
   "mimetype": "text/x-r-source",
   "name": "R",
   "pygments_lexer": "r",
   "version": "4.1.3"
  }
 },
 "nbformat": 4,
 "nbformat_minor": 4
}
