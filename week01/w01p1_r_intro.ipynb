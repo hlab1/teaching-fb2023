{
 "cells": [
  {
   "cell_type": "markdown",
   "metadata": {},
   "source": [
    "## Brief introduction to R"
   ]
  },
  {
   "cell_type": "markdown",
   "metadata": {},
   "source": [
    "### Getting started\n",
    "\n",
    "1. Log into our JupyterHub https://biolua-124-spring.rcnyu.org.\n",
    "2. Click the \"File Browser\" icon on the top left corner.\n",
    "3. Create a folder \"my_notebooks\": Right click in the file navigation area, choose \"New Folder\", enter \"my_notebooks\", then double click to get into the \"my_notebooks\" folder.\n",
    "3. Create a folder \"my_notebooks\": Right click in the file navigation area, choose \"New Folder\", enter \"week01\", then double click to get into the \"week01\" folder.\n",
    "4. Start a new R 4.1 notebook by clicking on the button \"R \\[conda env:r_4.1\\]\".\n",
    "5. Name this notebook \"r_intro\".\n",
    "6. To save the notebook, click \"File\"->\"Save and Checkpoint\"."
   ]
  },
  {
   "cell_type": "markdown",
   "metadata": {},
   "source": [
    "\n",
    "\n",
    "### Interacting with the R Jupyter notebook\n",
    "\n",
    "There are two types of Cells.\n",
    "* \"Markdown\" cells allow you to write text like this one.\n",
    "* The two cells below are \"Code\" cells. Type R commands into the cell and press shift-enter to compute the result.\n",
    "\n",
    "You can change the type of a cell by the dropdown in the menu bar."
   ]
  },
  {
   "cell_type": "code",
   "execution_count": 5,
   "metadata": {},
   "outputs": [
    {
     "data": {
      "text/html": [
       "6"
      ],
      "text/latex": [
       "6"
      ],
      "text/markdown": [
       "6"
      ],
      "text/plain": [
       "[1] 6"
      ]
     },
     "metadata": {},
     "output_type": "display_data"
    }
   ],
   "source": [
    "2*3"
   ]
  },
  {
   "cell_type": "markdown",
   "metadata": {},
   "source": [
    "A cell can be in \"edit\" mode or \"command\" mode.\n",
    "* Edit mode is indicated by blue cell border, white background and blue bar on the left.  You can type into the cell.\n",
    "* Command mode is indicated by a grey border with grey background."
   ]
  },
  {
   "cell_type": "code",
   "execution_count": 11,
   "metadata": {},
   "outputs": [
    {
     "data": {
      "text/html": [
       "7"
      ],
      "text/latex": [
       "7"
      ],
      "text/markdown": [
       "7"
      ],
      "text/plain": [
       "[1] 7"
      ]
     },
     "metadata": {},
     "output_type": "display_data"
    }
   ],
   "source": [
    "10-3"
   ]
  },
  {
   "cell_type": "markdown",
   "metadata": {},
   "source": [
    "### R variables\n",
    "\n",
    "A variable has a name and a value. For example, in the cell below we are assigning the value 2\\*3 to the variable x. Press shift-enter to evaluate it.  Note that this command does not print the result on the screen (why?)."
   ]
  },
  {
   "cell_type": "code",
   "execution_count": 3,
   "metadata": {},
   "outputs": [],
   "source": [
    "x <- 2*3"
   ]
  },
  {
   "cell_type": "markdown",
   "metadata": {},
   "source": [
    "To view the content of the variable *x*, just type its name and press shift-enter."
   ]
  },
  {
   "cell_type": "code",
   "execution_count": 4,
   "metadata": {},
   "outputs": [
    {
     "data": {
      "text/html": [
       "6"
      ],
      "text/latex": [
       "6"
      ],
      "text/markdown": [
       "6"
      ],
      "text/plain": [
       "[1] 6"
      ]
     },
     "metadata": {},
     "output_type": "display_data"
    }
   ],
   "source": [
    "x"
   ]
  },
  {
   "cell_type": "markdown",
   "metadata": {},
   "source": [
    "All variables in R are called **objects**. There are multiple types of objects in R, including scalars, vectors, matrices, arrays, data frames, tables, and lists."
   ]
  },
  {
   "cell_type": "markdown",
   "metadata": {},
   "source": [
    "A **vector** is a collection of **elements** of the same type.\n",
    "We can use the `c()` function to create a vector with the name `myvector`."
   ]
  },
  {
   "cell_type": "code",
   "execution_count": 3,
   "metadata": {},
   "outputs": [],
   "source": [
    "myvector <- c(8,6,9,10,5)"
   ]
  },
  {
   "cell_type": "markdown",
   "metadata": {},
   "source": [
    "Type the name of this vector to see its value."
   ]
  },
  {
   "cell_type": "code",
   "execution_count": 4,
   "metadata": {},
   "outputs": [
    {
     "data": {
      "text/html": [
       "<ol class=list-inline>\n",
       "\t<li>8</li>\n",
       "\t<li>6</li>\n",
       "\t<li>9</li>\n",
       "\t<li>10</li>\n",
       "\t<li>5</li>\n",
       "</ol>\n"
      ],
      "text/latex": [
       "\\begin{enumerate*}\n",
       "\\item 8\n",
       "\\item 6\n",
       "\\item 9\n",
       "\\item 10\n",
       "\\item 5\n",
       "\\end{enumerate*}\n"
      ],
      "text/markdown": [
       "1. 8\n",
       "2. 6\n",
       "3. 9\n",
       "4. 10\n",
       "5. 5\n",
       "\n",
       "\n"
      ],
      "text/plain": [
       "[1]  8  6  9 10  5"
      ]
     },
     "metadata": {},
     "output_type": "display_data"
    }
   ],
   "source": [
    "myvector"
   ]
  },
  {
   "cell_type": "markdown",
   "metadata": {},
   "source": [
    "We can extract elements in the vector by its **index**. Here we are getting the first (position 1) and the fourth (position 4) element in the vector."
   ]
  },
  {
   "cell_type": "code",
   "execution_count": 5,
   "metadata": {},
   "outputs": [
    {
     "data": {
      "text/html": [
       "8"
      ],
      "text/latex": [
       "8"
      ],
      "text/markdown": [
       "8"
      ],
      "text/plain": [
       "[1] 8"
      ]
     },
     "metadata": {},
     "output_type": "display_data"
    }
   ],
   "source": [
    "myvector[1]"
   ]
  },
  {
   "cell_type": "code",
   "execution_count": 6,
   "metadata": {},
   "outputs": [
    {
     "data": {
      "text/html": [
       "10"
      ],
      "text/latex": [
       "10"
      ],
      "text/markdown": [
       "10"
      ],
      "text/plain": [
       "[1] 10"
      ]
     },
     "metadata": {},
     "output_type": "display_data"
    }
   ],
   "source": [
    "myvector[4]"
   ]
  },
  {
   "cell_type": "markdown",
   "metadata": {},
   "source": [
    "A **list** can contain elements of different types, for example, numbers or strings, or even vector. We can use the `list()` function to create a list. Values in the list can have names."
   ]
  },
  {
   "cell_type": "code",
   "execution_count": 7,
   "metadata": {},
   "outputs": [],
   "source": [
    "mylist <- list(\"USA\"=\"Washington DC\",\"Canada\"=\"Ottawa\",myvector)"
   ]
  },
  {
   "cell_type": "markdown",
   "metadata": {},
   "source": [
    "To see the content of `mylist`, just type its name."
   ]
  },
  {
   "cell_type": "code",
   "execution_count": 10,
   "metadata": {},
   "outputs": [
    {
     "data": {
      "text/html": [
       "<dl>\n",
       "\t<dt>$USA</dt>\n",
       "\t\t<dd>'Washington DC'</dd>\n",
       "\t<dt>$Canada</dt>\n",
       "\t\t<dd>'Ottawa'</dd>\n",
       "\t<dt>[[3]]</dt>\n",
       "\t\t<dd><ol class=list-inline>\n",
       "\t<li>8</li>\n",
       "\t<li>6</li>\n",
       "\t<li>9</li>\n",
       "\t<li>10</li>\n",
       "\t<li>5</li>\n",
       "</ol>\n",
       "</dd>\n",
       "</dl>\n"
      ],
      "text/latex": [
       "\\begin{description}\n",
       "\\item[\\$USA] 'Washington DC'\n",
       "\\item[\\$Canada] 'Ottawa'\n",
       "\\item[{[[3]]}] \\begin{enumerate*}\n",
       "\\item 8\n",
       "\\item 6\n",
       "\\item 9\n",
       "\\item 10\n",
       "\\item 5\n",
       "\\end{enumerate*}\n",
       "\n",
       "\\end{description}\n"
      ],
      "text/markdown": [
       "$USA\n",
       ":   'Washington DC'\n",
       "$Canada\n",
       ":   'Ottawa'\n",
       "[[3]]\n",
       ":   1. 8\n",
       "2. 6\n",
       "3. 9\n",
       "4. 10\n",
       "5. 5\n",
       "\n",
       "\n",
       "\n",
       "\n",
       "\n"
      ],
      "text/plain": [
       "$USA\n",
       "[1] \"Washington DC\"\n",
       "\n",
       "$Canada\n",
       "[1] \"Ottawa\"\n",
       "\n",
       "[[3]]\n",
       "[1]  8  6  9 10  5\n"
      ]
     },
     "metadata": {},
     "output_type": "display_data"
    }
   ],
   "source": [
    "mylist"
   ]
  },
  {
   "cell_type": "markdown",
   "metadata": {},
   "source": [
    "We can get individual elements of the list by the name or the index using **double square brackets**`[[`."
   ]
  },
  {
   "cell_type": "code",
   "execution_count": 8,
   "metadata": {},
   "outputs": [
    {
     "data": {
      "text/html": [
       "'Ottawa'"
      ],
      "text/latex": [
       "'Ottawa'"
      ],
      "text/markdown": [
       "'Ottawa'"
      ],
      "text/plain": [
       "[1] \"Ottawa\""
      ]
     },
     "metadata": {},
     "output_type": "display_data"
    }
   ],
   "source": [
    "mylist[[\"Canada\"]]"
   ]
  },
  {
   "cell_type": "code",
   "execution_count": 9,
   "metadata": {},
   "outputs": [
    {
     "data": {
      "text/html": [
       "<ol class=list-inline>\n",
       "\t<li>8</li>\n",
       "\t<li>6</li>\n",
       "\t<li>9</li>\n",
       "\t<li>10</li>\n",
       "\t<li>5</li>\n",
       "</ol>\n"
      ],
      "text/latex": [
       "\\begin{enumerate*}\n",
       "\\item 8\n",
       "\\item 6\n",
       "\\item 9\n",
       "\\item 10\n",
       "\\item 5\n",
       "\\end{enumerate*}\n"
      ],
      "text/markdown": [
       "1. 8\n",
       "2. 6\n",
       "3. 9\n",
       "4. 10\n",
       "5. 5\n",
       "\n",
       "\n"
      ],
      "text/plain": [
       "[1]  8  6  9 10  5"
      ]
     },
     "metadata": {},
     "output_type": "display_data"
    }
   ],
   "source": [
    "mylist[[3]]"
   ]
  },
  {
   "cell_type": "markdown",
   "metadata": {},
   "source": [
    "The `attributes` function gets all the names in the list."
   ]
  },
  {
   "cell_type": "code",
   "execution_count": 13,
   "metadata": {},
   "outputs": [
    {
     "data": {
      "text/html": [
       "<strong>$names</strong> = <ol class=list-inline>\n",
       "\t<li>'USA'</li>\n",
       "\t<li>'Canada'</li>\n",
       "\t<li>''</li>\n",
       "</ol>\n"
      ],
      "text/latex": [
       "\\textbf{\\$names} = \\begin{enumerate*}\n",
       "\\item 'USA'\n",
       "\\item 'Canada'\n",
       "\\item ''\n",
       "\\end{enumerate*}\n"
      ],
      "text/markdown": [
       "**$names** = 1. 'USA'\n",
       "2. 'Canada'\n",
       "3. ''\n",
       "\n",
       "\n"
      ],
      "text/plain": [
       "$names\n",
       "[1] \"USA\"    \"Canada\" \"\"      \n"
      ]
     },
     "metadata": {},
     "output_type": "display_data"
    }
   ],
   "source": [
    "attributes(mylist)"
   ]
  },
  {
   "cell_type": "markdown",
   "metadata": {},
   "source": [
    "### R functions\n",
    "A **function** in R performs some calculations on input variables called **arguments** that are inside a **round bracket**. For example the `log10()` function calculates the base 10 logarithm of the number passed in the round bracket."
   ]
  },
  {
   "cell_type": "code",
   "execution_count": 10,
   "metadata": {},
   "outputs": [
    {
     "data": {
      "text/html": [
       "2"
      ],
      "text/latex": [
       "2"
      ],
      "text/markdown": [
       "2"
      ],
      "text/plain": [
       "[1] 2"
      ]
     },
     "metadata": {},
     "output_type": "display_data"
    }
   ],
   "source": [
    "log10(100)"
   ]
  },
  {
   "cell_type": "markdown",
   "metadata": {},
   "source": [
    "The `mean` function calculates the mean of a vector."
   ]
  },
  {
   "cell_type": "code",
   "execution_count": 11,
   "metadata": {},
   "outputs": [
    {
     "data": {
      "text/html": [
       "7.6"
      ],
      "text/latex": [
       "7.6"
      ],
      "text/markdown": [
       "7.6"
      ],
      "text/plain": [
       "[1] 7.6"
      ]
     },
     "metadata": {},
     "output_type": "display_data"
    }
   ],
   "source": [
    "mean(myvector)"
   ]
  },
  {
   "cell_type": "markdown",
   "metadata": {},
   "source": [
    "The `table` function takes a vector, finds all the possible unique values in the vector, and calculates the number of times that each value appears in the vector."
   ]
  },
  {
   "cell_type": "code",
   "execution_count": 12,
   "metadata": {},
   "outputs": [
    {
     "data": {
      "text/plain": [
       "class_majors\n",
       "         Biology Computer Science       Psychology    Public Health \n",
       "               3                1                1                1 "
      ]
     },
     "metadata": {},
     "output_type": "display_data"
    }
   ],
   "source": [
    "class_majors <- c(\"Psychology\",\"Public Health\",\"Biology\",\"Biology\",\"Computer Science\",\"Biology\")\n",
    "table(class_majors)"
   ]
  },
  {
   "cell_type": "markdown",
   "metadata": {},
   "source": [
    "Functions can take multiple arguments. The `log(x,y)` function takes the base `y` logarithm of `x`."
   ]
  },
  {
   "cell_type": "code",
   "execution_count": 17,
   "metadata": {},
   "outputs": [
    {
     "data": {
      "text/html": [
       "4"
      ],
      "text/latex": [
       "4"
      ],
      "text/markdown": [
       "4"
      ],
      "text/plain": [
       "[1] 4"
      ]
     },
     "metadata": {},
     "output_type": "display_data"
    }
   ],
   "source": [
    "log(16,2)"
   ]
  },
  {
   "cell_type": "code",
   "execution_count": 18,
   "metadata": {},
   "outputs": [
    {
     "data": {
      "text/html": [
       "3"
      ],
      "text/latex": [
       "3"
      ],
      "text/markdown": [
       "3"
      ],
      "text/plain": [
       "[1] 3"
      ]
     },
     "metadata": {},
     "output_type": "display_data"
    }
   ],
   "source": [
    "log(27,3)"
   ]
  },
  {
   "cell_type": "markdown",
   "metadata": {},
   "source": [
    "### Getting help on functions\n",
    "A lot of functions that come with R or R packages provides **inline help**. This allows you to see how to call the functions and what the functions do.\n",
    "\n",
    "Usually you can just type ? before the function name.\n",
    "\n",
    "Try getting help for the `log` function."
   ]
  },
  {
   "cell_type": "code",
   "execution_count": 19,
   "metadata": {},
   "outputs": [],
   "source": [
    "?log"
   ]
  },
  {
   "cell_type": "markdown",
   "metadata": {},
   "source": [
    "And the `mean` function."
   ]
  },
  {
   "cell_type": "code",
   "execution_count": 20,
   "metadata": {},
   "outputs": [],
   "source": [
    "?mean"
   ]
  },
  {
   "cell_type": "markdown",
   "metadata": {},
   "source": [
    "Click \"File\"->\"Save and Checkpoint\" to save this notebook.  To exit this notebook, click \"File\"->\"Close and Halt\".  When you finish using JupyterHub, remember to click **Control Panel** then **Stop My Server**."
   ]
  },
  {
   "cell_type": "code",
   "execution_count": null,
   "metadata": {},
   "outputs": [],
   "source": []
  }
 ],
 "metadata": {
  "kernelspec": {
   "display_name": "R [conda env:r_4.1]",
   "language": "R",
   "name": "conda-env-r_4.1-r"
  },
  "language_info": {
   "codemirror_mode": "r",
   "file_extension": ".r",
   "mimetype": "text/x-r-source",
   "name": "R",
   "pygments_lexer": "r",
   "version": "4.1.3"
  }
 },
 "nbformat": 4,
 "nbformat_minor": 4
}
