{
 "cells": [
  {
   "cell_type": "markdown",
   "metadata": {},
   "source": [
    "## Brief introduction to R"
   ]
  },
  {
   "cell_type": "markdown",
   "metadata": {
    "tags": []
   },
   "source": [
    "### Getting started with JupyterHub\n",
    "\n",
    "1. Log into our JupyterHub https://biolua-124-spring.rcnyu.org.\n",
    "2. Click the \"File Browser\" icon on the top left corner.\n",
    "3. Create a folder \"my_notebooks\": Right click in the file navigation area, choose \"New Folder\", enter \"my_notebooks\", then double click to get into the \"my_notebooks\" folder.\n",
    "3. Create a folder \"my_notebooks\": Right click in the file navigation area, choose \"New Folder\", enter \"week01\", then double click to get into the \"week01\" folder.\n",
    "4. Start a new R 4.1 notebook by clicking on the button \"R \\[conda env:r_4.1\\]\".\n",
    "5. Name this notebook \"r_intro\".\n",
    "6. To save the notebook, click the disk icon on the menu bar."
   ]
  },
  {
   "cell_type": "markdown",
   "metadata": {},
   "source": [
    "### Trying out your first notebook\n",
    "\n",
    "From the top menu bar, choose \"File\"->\"Open from URL\".  Enter this URL https://raw.githubusercontent.com/hlab1/teaching-fb2023/main/week01/w01p1_r_intro.ipynb."
   ]
  },
  {
   "cell_type": "markdown",
   "metadata": {},
   "source": [
    "\n",
    "\n",
    "### Interacting with the R Jupyter notebook\n",
    "\n",
    "There are two types of Cells.\n",
    "* \"Markdown\" cells allow you to write text like this one.\n",
    "* The two cells below are \"Code\" cells. Type R commands into the cell and press shift-enter to compute the result.  On the left of \"Code\" cells, a number within a square bracket indicates the order of the cell that was run last time.\n",
    "\n",
    "You can change the type of a cell by the dropdown in the menu bar."
   ]
  },
  {
   "cell_type": "code",
   "execution_count": 3,
   "metadata": {},
   "outputs": [
    {
     "data": {
      "text/html": [
       "6"
      ],
      "text/latex": [
       "6"
      ],
      "text/markdown": [
       "6"
      ],
      "text/plain": [
       "[1] 6"
      ]
     },
     "metadata": {},
     "output_type": "display_data"
    }
   ],
   "source": [
    "2*3"
   ]
  },
  {
   "cell_type": "markdown",
   "metadata": {},
   "source": [
    "A cell can be in \"edit\" mode or \"command\" mode.\n",
    "* Edit mode is indicated by blue cell border, white background and blue bar on the left.  You can type into the cell.\n",
    "* Command mode is indicated by white background (\"Markdown\" cells), or grey border with grey background (\"Code\" cells)."
   ]
  },
  {
   "cell_type": "code",
   "execution_count": 11,
   "metadata": {},
   "outputs": [
    {
     "data": {
      "text/html": [
       "7"
      ],
      "text/latex": [
       "7"
      ],
      "text/markdown": [
       "7"
      ],
      "text/plain": [
       "[1] 7"
      ]
     },
     "metadata": {},
     "output_type": "display_data"
    }
   ],
   "source": [
    "10-3"
   ]
  },
  {
   "cell_type": "markdown",
   "metadata": {},
   "source": [
    "### R variables\n",
    "\n",
    "A variable has a name and a value. For example, in the cell below we are assigning the value 2\\*3 to the variable x. Press shift-enter to evaluate it.  Note that this command does not print the result on the screen (why?)."
   ]
  },
  {
   "cell_type": "code",
   "execution_count": 4,
   "metadata": {},
   "outputs": [],
   "source": [
    "x <- 2*3"
   ]
  },
  {
   "cell_type": "markdown",
   "metadata": {},
   "source": [
    "To view the content of the variable *x*, just type its name and press shift-enter."
   ]
  },
  {
   "cell_type": "code",
   "execution_count": 5,
   "metadata": {},
   "outputs": [
    {
     "data": {
      "text/html": [
       "6"
      ],
      "text/latex": [
       "6"
      ],
      "text/markdown": [
       "6"
      ],
      "text/plain": [
       "[1] 6"
      ]
     },
     "metadata": {},
     "output_type": "display_data"
    }
   ],
   "source": [
    "x"
   ]
  },
  {
   "cell_type": "markdown",
   "metadata": {},
   "source": [
    "All variables in R are called **objects**. There are multiple types of objects in R, including scalars, vectors, matrices, arrays, data frames, tables, and lists."
   ]
  },
  {
   "cell_type": "markdown",
   "metadata": {},
   "source": [
    "A **vector** is a collection of **elements** of the same type.\n",
    "We can use the `c()` function to create a vector with the name `myvector`."
   ]
  },
  {
   "cell_type": "code",
   "execution_count": 6,
   "metadata": {},
   "outputs": [],
   "source": [
    "myvector <- c(8,6,9,10,5)"
   ]
  },
  {
   "cell_type": "markdown",
   "metadata": {},
   "source": [
    "Type the name of this vector to see its value."
   ]
  },
  {
   "cell_type": "code",
   "execution_count": 7,
   "metadata": {},
   "outputs": [
    {
     "data": {
      "text/html": [
       "<style>\n",
       ".list-inline {list-style: none; margin:0; padding: 0}\n",
       ".list-inline>li {display: inline-block}\n",
       ".list-inline>li:not(:last-child)::after {content: \"\\00b7\"; padding: 0 .5ex}\n",
       "</style>\n",
       "<ol class=list-inline><li>8</li><li>6</li><li>9</li><li>10</li><li>5</li></ol>\n"
      ],
      "text/latex": [
       "\\begin{enumerate*}\n",
       "\\item 8\n",
       "\\item 6\n",
       "\\item 9\n",
       "\\item 10\n",
       "\\item 5\n",
       "\\end{enumerate*}\n"
      ],
      "text/markdown": [
       "1. 8\n",
       "2. 6\n",
       "3. 9\n",
       "4. 10\n",
       "5. 5\n",
       "\n",
       "\n"
      ],
      "text/plain": [
       "[1]  8  6  9 10  5"
      ]
     },
     "metadata": {},
     "output_type": "display_data"
    }
   ],
   "source": [
    "myvector"
   ]
  },
  {
   "cell_type": "markdown",
   "metadata": {},
   "source": [
    "We can extract elements in the vector by its **index**. Here we are getting the first (position 1) and the fourth (position 4) element in the vector."
   ]
  },
  {
   "cell_type": "code",
   "execution_count": 8,
   "metadata": {},
   "outputs": [
    {
     "data": {
      "text/html": [
       "8"
      ],
      "text/latex": [
       "8"
      ],
      "text/markdown": [
       "8"
      ],
      "text/plain": [
       "[1] 8"
      ]
     },
     "metadata": {},
     "output_type": "display_data"
    }
   ],
   "source": [
    "myvector[1]"
   ]
  },
  {
   "cell_type": "code",
   "execution_count": 9,
   "metadata": {},
   "outputs": [
    {
     "data": {
      "text/html": [
       "10"
      ],
      "text/latex": [
       "10"
      ],
      "text/markdown": [
       "10"
      ],
      "text/plain": [
       "[1] 10"
      ]
     },
     "metadata": {},
     "output_type": "display_data"
    }
   ],
   "source": [
    "myvector[4]"
   ]
  },
  {
   "cell_type": "markdown",
   "metadata": {},
   "source": [
    "A **list** can contain elements of different types, for example, numbers or strings, or even vector. We can use the `list()` function to create a list. Values in the list can have names."
   ]
  },
  {
   "cell_type": "code",
   "execution_count": 10,
   "metadata": {},
   "outputs": [],
   "source": [
    "mylist <- list(\"USA\"=\"Washington DC\",\"Canada\"=\"Ottawa\",myvector)"
   ]
  },
  {
   "cell_type": "markdown",
   "metadata": {},
   "source": [
    "To see the content of `mylist`, just type its name."
   ]
  },
  {
   "cell_type": "code",
   "execution_count": 14,
   "metadata": {},
   "outputs": [
    {
     "data": {
      "text/html": [
       "<dl>\n",
       "\t<dt>$USA</dt>\n",
       "\t\t<dd>'Washington DC'</dd>\n",
       "\t<dt>$Canada</dt>\n",
       "\t\t<dd>'Ottawa'</dd>\n",
       "\t<dt>[[3]]</dt>\n",
       "\t\t<dd><style>\n",
       ".list-inline {list-style: none; margin:0; padding: 0}\n",
       ".list-inline>li {display: inline-block}\n",
       ".list-inline>li:not(:last-child)::after {content: \"\\00b7\"; padding: 0 .5ex}\n",
       "</style>\n",
       "<ol class=list-inline><li>8</li><li>6</li><li>9</li><li>10</li><li>5</li></ol>\n",
       "</dd>\n",
       "</dl>\n"
      ],
      "text/latex": [
       "\\begin{description}\n",
       "\\item[\\$USA] 'Washington DC'\n",
       "\\item[\\$Canada] 'Ottawa'\n",
       "\\item[{[[3]]}] \\begin{enumerate*}\n",
       "\\item 8\n",
       "\\item 6\n",
       "\\item 9\n",
       "\\item 10\n",
       "\\item 5\n",
       "\\end{enumerate*}\n",
       "\n",
       "\\end{description}\n"
      ],
      "text/markdown": [
       "$USA\n",
       ":   'Washington DC'\n",
       "$Canada\n",
       ":   'Ottawa'\n",
       "[[3]]\n",
       ":   1. 8\n",
       "2. 6\n",
       "3. 9\n",
       "4. 10\n",
       "5. 5\n",
       "\n",
       "\n",
       "\n",
       "\n",
       "\n"
      ],
      "text/plain": [
       "$USA\n",
       "[1] \"Washington DC\"\n",
       "\n",
       "$Canada\n",
       "[1] \"Ottawa\"\n",
       "\n",
       "[[3]]\n",
       "[1]  8  6  9 10  5\n"
      ]
     },
     "metadata": {},
     "output_type": "display_data"
    }
   ],
   "source": [
    "mylist"
   ]
  },
  {
   "cell_type": "markdown",
   "metadata": {},
   "source": [
    "We can get individual elements of the list by the name or the index using **double square brackets**`[[`."
   ]
  },
  {
   "cell_type": "code",
   "execution_count": 15,
   "metadata": {},
   "outputs": [
    {
     "data": {
      "text/html": [
       "'Ottawa'"
      ],
      "text/latex": [
       "'Ottawa'"
      ],
      "text/markdown": [
       "'Ottawa'"
      ],
      "text/plain": [
       "[1] \"Ottawa\""
      ]
     },
     "metadata": {},
     "output_type": "display_data"
    }
   ],
   "source": [
    "mylist[[\"Canada\"]]"
   ]
  },
  {
   "cell_type": "code",
   "execution_count": 16,
   "metadata": {},
   "outputs": [
    {
     "data": {
      "text/html": [
       "<style>\n",
       ".list-inline {list-style: none; margin:0; padding: 0}\n",
       ".list-inline>li {display: inline-block}\n",
       ".list-inline>li:not(:last-child)::after {content: \"\\00b7\"; padding: 0 .5ex}\n",
       "</style>\n",
       "<ol class=list-inline><li>8</li><li>6</li><li>9</li><li>10</li><li>5</li></ol>\n"
      ],
      "text/latex": [
       "\\begin{enumerate*}\n",
       "\\item 8\n",
       "\\item 6\n",
       "\\item 9\n",
       "\\item 10\n",
       "\\item 5\n",
       "\\end{enumerate*}\n"
      ],
      "text/markdown": [
       "1. 8\n",
       "2. 6\n",
       "3. 9\n",
       "4. 10\n",
       "5. 5\n",
       "\n",
       "\n"
      ],
      "text/plain": [
       "[1]  8  6  9 10  5"
      ]
     },
     "metadata": {},
     "output_type": "display_data"
    }
   ],
   "source": [
    "mylist[[3]]"
   ]
  },
  {
   "cell_type": "markdown",
   "metadata": {},
   "source": [
    "The `attributes` function gets all the names in the list."
   ]
  },
  {
   "cell_type": "code",
   "execution_count": 17,
   "metadata": {},
   "outputs": [
    {
     "data": {
      "text/html": [
       "<strong>$names</strong> = <style>\n",
       ".list-inline {list-style: none; margin:0; padding: 0}\n",
       ".list-inline>li {display: inline-block}\n",
       ".list-inline>li:not(:last-child)::after {content: \"\\00b7\"; padding: 0 .5ex}\n",
       "</style>\n",
       "<ol class=list-inline><li>'USA'</li><li>'Canada'</li><li>''</li></ol>\n"
      ],
      "text/latex": [
       "\\textbf{\\$names} = \\begin{enumerate*}\n",
       "\\item 'USA'\n",
       "\\item 'Canada'\n",
       "\\item ''\n",
       "\\end{enumerate*}\n"
      ],
      "text/markdown": [
       "**$names** = 1. 'USA'\n",
       "2. 'Canada'\n",
       "3. ''\n",
       "\n",
       "\n"
      ],
      "text/plain": [
       "$names\n",
       "[1] \"USA\"    \"Canada\" \"\"      \n"
      ]
     },
     "metadata": {},
     "output_type": "display_data"
    }
   ],
   "source": [
    "attributes(mylist)"
   ]
  },
  {
   "cell_type": "markdown",
   "metadata": {},
   "source": [
    "### R functions\n",
    "A **function** in R performs some calculations on input variables called **arguments** that are inside a **round bracket**. For example the `log10()` function calculates the base 10 logarithm of the number passed in the round bracket."
   ]
  },
  {
   "cell_type": "code",
   "execution_count": 18,
   "metadata": {},
   "outputs": [
    {
     "data": {
      "text/html": [
       "2"
      ],
      "text/latex": [
       "2"
      ],
      "text/markdown": [
       "2"
      ],
      "text/plain": [
       "[1] 2"
      ]
     },
     "metadata": {},
     "output_type": "display_data"
    }
   ],
   "source": [
    "log10(100)"
   ]
  },
  {
   "cell_type": "markdown",
   "metadata": {},
   "source": [
    "The `mean` function calculates the mean of a vector."
   ]
  },
  {
   "cell_type": "code",
   "execution_count": 19,
   "metadata": {},
   "outputs": [
    {
     "data": {
      "text/html": [
       "7.6"
      ],
      "text/latex": [
       "7.6"
      ],
      "text/markdown": [
       "7.6"
      ],
      "text/plain": [
       "[1] 7.6"
      ]
     },
     "metadata": {},
     "output_type": "display_data"
    }
   ],
   "source": [
    "mean(myvector)"
   ]
  },
  {
   "cell_type": "markdown",
   "metadata": {},
   "source": [
    "The `table` function takes a vector, finds all the possible unique values in the vector, and calculates the number of times that each value appears in the vector."
   ]
  },
  {
   "cell_type": "code",
   "execution_count": 20,
   "metadata": {},
   "outputs": [
    {
     "data": {
      "text/plain": [
       "class_majors\n",
       "         Biology Computer Science       Psychology    Public Health \n",
       "               3                1                1                1 "
      ]
     },
     "metadata": {},
     "output_type": "display_data"
    }
   ],
   "source": [
    "class_majors <- c(\"Psychology\",\"Public Health\",\"Biology\",\"Biology\",\"Computer Science\",\"Biology\")\n",
    "table(class_majors)"
   ]
  },
  {
   "cell_type": "markdown",
   "metadata": {},
   "source": [
    "Functions can take multiple arguments. The `log(x,y)` function takes the base `y` logarithm of `x`."
   ]
  },
  {
   "cell_type": "code",
   "execution_count": 21,
   "metadata": {},
   "outputs": [
    {
     "data": {
      "text/html": [
       "4"
      ],
      "text/latex": [
       "4"
      ],
      "text/markdown": [
       "4"
      ],
      "text/plain": [
       "[1] 4"
      ]
     },
     "metadata": {},
     "output_type": "display_data"
    }
   ],
   "source": [
    "log(16,2)"
   ]
  },
  {
   "cell_type": "code",
   "execution_count": 22,
   "metadata": {},
   "outputs": [
    {
     "data": {
      "text/html": [
       "3"
      ],
      "text/latex": [
       "3"
      ],
      "text/markdown": [
       "3"
      ],
      "text/plain": [
       "[1] 3"
      ]
     },
     "metadata": {},
     "output_type": "display_data"
    }
   ],
   "source": [
    "log(27,3)"
   ]
  },
  {
   "cell_type": "markdown",
   "metadata": {},
   "source": [
    "### Getting help on functions\n",
    "A lot of functions that come with R or R packages provides **inline help**. This allows you to see how to call the functions and what the functions do.\n",
    "\n",
    "Usually you can just type ? before the function name.\n",
    "\n",
    "Try getting help for the `log` function."
   ]
  },
  {
   "cell_type": "code",
   "execution_count": 23,
   "metadata": {},
   "outputs": [
    {
     "data": {
      "text/html": [
       "\n",
       "<table width=\"100%\" summary=\"page for log {IRkernel}\"><tr><td>log {IRkernel}</td><td style=\"text-align: right;\">R Documentation</td></tr></table>\n",
       "\n",
       "<h2>Kernel logging functions</h2>\n",
       "\n",
       "<h3>Description</h3>\n",
       "\n",
       "<p>A set of exported logging utilities that have the capability to be used in upstream projects.\n",
       "Log level and log file can be set via R package options e.g. <code>options(jupyter.log_level = 2L)</code>\n",
       "or from the environment variables JUPYTER_LOG_LEVEL and JUPYTER_LOGFILE.\n",
       "</p>\n",
       "\n",
       "\n",
       "<h3>Usage</h3>\n",
       "\n",
       "<pre>\n",
       "log_debug(...)\n",
       "\n",
       "log_info(...)\n",
       "\n",
       "log_error(...)\n",
       "</pre>\n",
       "\n",
       "\n",
       "<h3>Arguments</h3>\n",
       "\n",
       "<table summary=\"R argblock\">\n",
       "<tr valign=\"top\"><td><code>...</code></td>\n",
       "<td>\n",
       "<p>message to log</p>\n",
       "</td></tr>\n",
       "</table>\n",
       "\n",
       "<hr /><div style=\"text-align: center;\">[Package <em>IRkernel</em> version 1.3.2 ]</div>"
      ],
      "text/latex": [
       "\\inputencoding{utf8}\n",
       "\\HeaderA{log}{Kernel logging functions}{log}\n",
       "\\aliasA{log\\_debug}{log}{log.Rul.debug}\n",
       "\\aliasA{log\\_error}{log}{log.Rul.error}\n",
       "\\aliasA{log\\_info}{log}{log.Rul.info}\n",
       "%\n",
       "\\begin{Description}\\relax\n",
       "A set of exported logging utilities that have the capability to be used in upstream projects.\n",
       "Log level and log file can be set via R package options e.g. \\code{options(jupyter.log\\_level = 2L)}\n",
       "or from the environment variables JUPYTER\\_LOG\\_LEVEL and JUPYTER\\_LOGFILE.\n",
       "\\end{Description}\n",
       "%\n",
       "\\begin{Usage}\n",
       "\\begin{verbatim}\n",
       "log_debug(...)\n",
       "\n",
       "log_info(...)\n",
       "\n",
       "log_error(...)\n",
       "\\end{verbatim}\n",
       "\\end{Usage}\n",
       "%\n",
       "\\begin{Arguments}\n",
       "\\begin{ldescription}\n",
       "\\item[\\code{...}] message to log\n",
       "\\end{ldescription}\n",
       "\\end{Arguments}"
      ],
      "text/plain": [
       "log                  package:IRkernel                  R Documentation\n",
       "\n",
       "_\bK_\be_\br_\bn_\be_\bl _\bl_\bo_\bg_\bg_\bi_\bn_\bg _\bf_\bu_\bn_\bc_\bt_\bi_\bo_\bn_\bs\n",
       "\n",
       "_\bD_\be_\bs_\bc_\br_\bi_\bp_\bt_\bi_\bo_\bn:\n",
       "\n",
       "     A set of exported logging utilities that have the capability to be\n",
       "     used in upstream projects. Log level and log file can be set via R\n",
       "     package options e.g. ‘options(jupyter.log_level = 2L)’ or from the\n",
       "     environment variables JUPYTER_LOG_LEVEL and JUPYTER_LOGFILE.\n",
       "\n",
       "_\bU_\bs_\ba_\bg_\be:\n",
       "\n",
       "     log_debug(...)\n",
       "     \n",
       "     log_info(...)\n",
       "     \n",
       "     log_error(...)\n",
       "     \n",
       "_\bA_\br_\bg_\bu_\bm_\be_\bn_\bt_\bs:\n",
       "\n",
       "     ...: message to log\n"
      ]
     },
     "metadata": {},
     "output_type": "display_data"
    }
   ],
   "source": [
    "?log"
   ]
  },
  {
   "cell_type": "markdown",
   "metadata": {},
   "source": [
    "And the `mean` function."
   ]
  },
  {
   "cell_type": "code",
   "execution_count": 24,
   "metadata": {},
   "outputs": [
    {
     "data": {
      "text/html": [
       "\n",
       "<table width=\"100%\" summary=\"page for mean {base}\"><tr><td>mean {base}</td><td style=\"text-align: right;\">R Documentation</td></tr></table>\n",
       "\n",
       "<h2>Arithmetic Mean</h2>\n",
       "\n",
       "<h3>Description</h3>\n",
       "\n",
       "<p>Generic function for the (trimmed) arithmetic mean.\n",
       "</p>\n",
       "\n",
       "\n",
       "<h3>Usage</h3>\n",
       "\n",
       "<pre>\n",
       "mean(x, ...)\n",
       "\n",
       "## Default S3 method:\n",
       "mean(x, trim = 0, na.rm = FALSE, ...)\n",
       "</pre>\n",
       "\n",
       "\n",
       "<h3>Arguments</h3>\n",
       "\n",
       "<table summary=\"R argblock\">\n",
       "<tr valign=\"top\"><td><code>x</code></td>\n",
       "<td>\n",
       "<p>An <span style=\"font-family: Courier New, Courier; color: #666666;\"><b>R</b></span> object.  Currently there are methods for\n",
       "numeric/logical vectors and date,\n",
       "date-time and time interval objects.  Complex vectors\n",
       "are allowed for <code>trim = 0</code>, only.</p>\n",
       "</td></tr>\n",
       "<tr valign=\"top\"><td><code>trim</code></td>\n",
       "<td>\n",
       "<p>the fraction (0 to 0.5) of observations to be\n",
       "trimmed from each end of <code>x</code> before the mean is computed.\n",
       "Values of trim outside that range are taken as the nearest endpoint.\n",
       "</p>\n",
       "</td></tr>\n",
       "<tr valign=\"top\"><td><code>na.rm</code></td>\n",
       "<td>\n",
       "<p>a logical value indicating whether <code>NA</code>\n",
       "values should be stripped before the computation proceeds.</p>\n",
       "</td></tr>\n",
       "<tr valign=\"top\"><td><code>...</code></td>\n",
       "<td>\n",
       "<p>further arguments passed to or from other methods.</p>\n",
       "</td></tr>\n",
       "</table>\n",
       "\n",
       "\n",
       "<h3>Value</h3>\n",
       "\n",
       "<p>If <code>trim</code> is zero (the default), the arithmetic mean of the\n",
       "values in <code>x</code> is computed, as a numeric or complex vector of\n",
       "length one.  If <code>x</code> is not logical (coerced to numeric), numeric\n",
       "(including integer) or complex, <code>NA_real_</code> is returned, with a warning.\n",
       "</p>\n",
       "<p>If <code>trim</code> is non-zero, a symmetrically trimmed mean is computed\n",
       "with a fraction of <code>trim</code> observations deleted from each end\n",
       "before the mean is computed.\n",
       "</p>\n",
       "\n",
       "\n",
       "<h3>References</h3>\n",
       "\n",
       "<p>Becker, R. A., Chambers, J. M. and Wilks, A. R. (1988)\n",
       "<em>The New S Language</em>.\n",
       "Wadsworth &amp; Brooks/Cole.\n",
       "</p>\n",
       "\n",
       "\n",
       "<h3>See Also</h3>\n",
       "\n",
       "<p><code>weighted.mean</code>, <code>mean.POSIXct</code>,\n",
       "<code>colMeans</code> for row and column means.\n",
       "</p>\n",
       "\n",
       "\n",
       "<h3>Examples</h3>\n",
       "\n",
       "<pre>\n",
       "x &lt;- c(0:10, 50)\n",
       "xm &lt;- mean(x)\n",
       "c(xm, mean(x, trim = 0.10))\n",
       "</pre>\n",
       "\n",
       "<hr /><div style=\"text-align: center;\">[Package <em>base</em> version 4.1.3 ]</div>"
      ],
      "text/latex": [
       "\\inputencoding{utf8}\n",
       "\\HeaderA{mean}{Arithmetic Mean}{mean}\n",
       "\\methaliasA{mean.default}{mean}{mean.default}\n",
       "\\keyword{univar}{mean}\n",
       "%\n",
       "\\begin{Description}\\relax\n",
       "Generic function for the (trimmed) arithmetic mean.\n",
       "\\end{Description}\n",
       "%\n",
       "\\begin{Usage}\n",
       "\\begin{verbatim}\n",
       "mean(x, ...)\n",
       "\n",
       "## Default S3 method:\n",
       "mean(x, trim = 0, na.rm = FALSE, ...)\n",
       "\\end{verbatim}\n",
       "\\end{Usage}\n",
       "%\n",
       "\\begin{Arguments}\n",
       "\\begin{ldescription}\n",
       "\\item[\\code{x}] An \\R{} object.  Currently there are methods for\n",
       "numeric/logical vectors and \\LinkA{date}{Dates},\n",
       "\\LinkA{date-time}{date.Rdash.time} and \\LinkA{time interval}{time interval} objects.  Complex vectors\n",
       "are allowed for \\code{trim = 0}, only.\n",
       "\\item[\\code{trim}] the fraction (0 to 0.5) of observations to be\n",
       "trimmed from each end of \\code{x} before the mean is computed.\n",
       "Values of trim outside that range are taken as the nearest endpoint.\n",
       "\n",
       "\\item[\\code{na.rm}] a logical value indicating whether \\code{NA}\n",
       "values should be stripped before the computation proceeds.\n",
       "\\item[\\code{...}] further arguments passed to or from other methods.\n",
       "\\end{ldescription}\n",
       "\\end{Arguments}\n",
       "%\n",
       "\\begin{Value}\n",
       "If \\code{trim} is zero (the default), the arithmetic mean of the\n",
       "values in \\code{x} is computed, as a numeric or complex vector of\n",
       "length one.  If \\code{x} is not logical (coerced to numeric), numeric\n",
       "(including integer) or complex, \\code{NA\\_real\\_} is returned, with a warning.\n",
       "\n",
       "If \\code{trim} is non-zero, a symmetrically trimmed mean is computed\n",
       "with a fraction of \\code{trim} observations deleted from each end\n",
       "before the mean is computed.\n",
       "\\end{Value}\n",
       "%\n",
       "\\begin{References}\\relax\n",
       "Becker, R. A., Chambers, J. M. and Wilks, A. R. (1988)\n",
       "\\emph{The New S Language}.\n",
       "Wadsworth \\& Brooks/Cole.\n",
       "\\end{References}\n",
       "%\n",
       "\\begin{SeeAlso}\\relax\n",
       "\\code{\\LinkA{weighted.mean}{weighted.mean}}, \\code{\\LinkA{mean.POSIXct}{mean.POSIXct}},\n",
       "\\code{\\LinkA{colMeans}{colMeans}} for row and column means.\n",
       "\\end{SeeAlso}\n",
       "%\n",
       "\\begin{Examples}\n",
       "\\begin{ExampleCode}\n",
       "x <- c(0:10, 50)\n",
       "xm <- mean(x)\n",
       "c(xm, mean(x, trim = 0.10))\n",
       "\\end{ExampleCode}\n",
       "\\end{Examples}"
      ],
      "text/plain": [
       "mean                   package:base                    R Documentation\n",
       "\n",
       "_\bA_\br_\bi_\bt_\bh_\bm_\be_\bt_\bi_\bc _\bM_\be_\ba_\bn\n",
       "\n",
       "_\bD_\be_\bs_\bc_\br_\bi_\bp_\bt_\bi_\bo_\bn:\n",
       "\n",
       "     Generic function for the (trimmed) arithmetic mean.\n",
       "\n",
       "_\bU_\bs_\ba_\bg_\be:\n",
       "\n",
       "     mean(x, ...)\n",
       "     \n",
       "     ## Default S3 method:\n",
       "     mean(x, trim = 0, na.rm = FALSE, ...)\n",
       "     \n",
       "_\bA_\br_\bg_\bu_\bm_\be_\bn_\bt_\bs:\n",
       "\n",
       "       x: An R object.  Currently there are methods for numeric/logical\n",
       "          vectors and date, date-time and time interval objects.\n",
       "          Complex vectors are allowed for ‘trim = 0’, only.\n",
       "\n",
       "    trim: the fraction (0 to 0.5) of observations to be trimmed from\n",
       "          each end of ‘x’ before the mean is computed.  Values of trim\n",
       "          outside that range are taken as the nearest endpoint.\n",
       "\n",
       "   na.rm: a logical value indicating whether ‘NA’ values should be\n",
       "          stripped before the computation proceeds.\n",
       "\n",
       "     ...: further arguments passed to or from other methods.\n",
       "\n",
       "_\bV_\ba_\bl_\bu_\be:\n",
       "\n",
       "     If ‘trim’ is zero (the default), the arithmetic mean of the values\n",
       "     in ‘x’ is computed, as a numeric or complex vector of length one.\n",
       "     If ‘x’ is not logical (coerced to numeric), numeric (including\n",
       "     integer) or complex, ‘NA_real_’ is returned, with a warning.\n",
       "\n",
       "     If ‘trim’ is non-zero, a symmetrically trimmed mean is computed\n",
       "     with a fraction of ‘trim’ observations deleted from each end\n",
       "     before the mean is computed.\n",
       "\n",
       "_\bR_\be_\bf_\be_\br_\be_\bn_\bc_\be_\bs:\n",
       "\n",
       "     Becker, R. A., Chambers, J. M. and Wilks, A. R. (1988) _The New S\n",
       "     Language_.  Wadsworth & Brooks/Cole.\n",
       "\n",
       "_\bS_\be_\be _\bA_\bl_\bs_\bo:\n",
       "\n",
       "     ‘weighted.mean’, ‘mean.POSIXct’, ‘colMeans’ for row and column\n",
       "     means.\n",
       "\n",
       "_\bE_\bx_\ba_\bm_\bp_\bl_\be_\bs:\n",
       "\n",
       "     x <- c(0:10, 50)\n",
       "     xm <- mean(x)\n",
       "     c(xm, mean(x, trim = 0.10))\n",
       "     "
      ]
     },
     "metadata": {},
     "output_type": "display_data"
    }
   ],
   "source": [
    "?mean"
   ]
  },
  {
   "cell_type": "markdown",
   "metadata": {},
   "source": [
    "Click the disk icon to save this notebook.  To exit this notebook, click \"File\"->\"Close and Shut Down Notebook\".  When you finish using JupyterHub, remember to click \"File\"->\"Hub Control Panel\", then \"Stop My Server\"."
   ]
  },
  {
   "cell_type": "code",
   "execution_count": null,
   "metadata": {},
   "outputs": [],
   "source": []
  }
 ],
 "metadata": {
  "kernelspec": {
   "display_name": "R [conda env:r_4.1]",
   "language": "R",
   "name": "conda-env-r_4.1-r"
  },
  "language_info": {
   "codemirror_mode": "r",
   "file_extension": ".r",
   "mimetype": "text/x-r-source",
   "name": "R",
   "pygments_lexer": "r",
   "version": "4.1.3"
  }
 },
 "nbformat": 4,
 "nbformat_minor": 4
}
