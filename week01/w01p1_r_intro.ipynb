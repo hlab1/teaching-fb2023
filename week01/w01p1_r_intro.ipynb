{
 "cells": [
  {
   "cell_type": "markdown",
   "metadata": {},
   "source": [
    "## Brief introduction to R"
   ]
  },
  {
   "cell_type": "markdown",
   "metadata": {
    "tags": []
   },
   "source": [
    "### Getting started with JupyterHub\n",
    "\n",
    "1. Log into our JupyterHub https://biolua-124-spring.rcnyu.org.\n",
    "2. Click the \"File Browser\" icon on the top left corner.\n",
    "3. Create a folder \"my_notebooks\": Right click in the file navigation area, choose \"New Folder\", enter \"my_notebooks\", then double click to get into the \"my_notebooks\" folder.\n",
    "3. Create a folder \"my_notebooks\": Right click in the file navigation area, choose \"New Folder\", enter \"week01\", then double click to get into the \"week01\" folder.\n",
    "4. Start a new R 4.1 notebook by clicking on the button \"R \\[conda env:r_4.1\\]\".\n",
    "5. Name this notebook \"r_intro\".\n",
    "6. To save the notebook, click the disk icon on the menu bar."
   ]
  },
  {
   "cell_type": "markdown",
   "metadata": {},
   "source": [
    "### Trying out your first notebook\n",
    "\n",
    "1. From the top menu bar, choose \"File\"->\"Open from URL\".  Enter this URL https://raw.githubusercontent.com/hlab1/teaching-fb2023/main/week01/w01p1_r_intro.ipynb.\n",
    "2. From the top menu bar, choose \"Kernel\"->\""
   ]
  },
  {
   "cell_type": "markdown",
   "metadata": {},
   "source": [
    "\n",
    "\n",
    "### Interacting with the R Jupyter notebook\n",
    "\n",
    "There are two types of Cells.\n",
    "* \"Markdown\" cells allow you to write text like this one.\n",
    "* The two cells below are \"Code\" cells. Type R commands into the cell and press shift-enter to compute the result.  On the left of \"Code\" cells, a number within a square bracket indicates the order of the cell that was run last time.\n",
    "\n",
    "You can change the type of a cell by the dropdown in the menu bar."
   ]
  },
  {
   "cell_type": "code",
   "execution_count": null,
   "metadata": {},
   "outputs": [],
   "source": [
    "2*3"
   ]
  },
  {
   "cell_type": "markdown",
   "metadata": {},
   "source": [
    "A cell can be in \"edit\" mode or \"command\" mode.\n",
    "* Edit mode is indicated by blue cell border, white background and blue bar on the left.  You can type into the cell.\n",
    "* Command mode is indicated by white background (\"Markdown\" cells), or grey border with grey background (\"Code\" cells)."
   ]
  },
  {
   "cell_type": "code",
   "execution_count": null,
   "metadata": {},
   "outputs": [],
   "source": [
    "10-3"
   ]
  },
  {
   "cell_type": "markdown",
   "metadata": {},
   "source": [
    "### R variables\n",
    "\n",
    "A variable has a name and a value. For example, in the cell below we are assigning the value 2\\*3 to the variable x. Press shift-enter to evaluate it.  Note that this command does not print the result on the screen (why?)."
   ]
  },
  {
   "cell_type": "code",
   "execution_count": null,
   "metadata": {},
   "outputs": [],
   "source": [
    "x <- 2*3"
   ]
  },
  {
   "cell_type": "markdown",
   "metadata": {},
   "source": [
    "To view the content of the variable *x*, just type its name and press shift-enter."
   ]
  },
  {
   "cell_type": "code",
   "execution_count": null,
   "metadata": {},
   "outputs": [],
   "source": [
    "x"
   ]
  },
  {
   "cell_type": "markdown",
   "metadata": {},
   "source": [
    "All variables in R are called **objects**. There are multiple types of objects in R, including scalars, vectors, matrices, arrays, data frames, tables, and lists."
   ]
  },
  {
   "cell_type": "markdown",
   "metadata": {},
   "source": [
    "A **vector** is a collection of **elements** of the same type.\n",
    "We can use the `c()` function to create a vector with the name `myvector`."
   ]
  },
  {
   "cell_type": "code",
   "execution_count": null,
   "metadata": {},
   "outputs": [],
   "source": [
    "myvector <- c(8,6,9,10,5)"
   ]
  },
  {
   "cell_type": "markdown",
   "metadata": {},
   "source": [
    "Type the name of this vector to see its value."
   ]
  },
  {
   "cell_type": "code",
   "execution_count": null,
   "metadata": {},
   "outputs": [],
   "source": [
    "myvector"
   ]
  },
  {
   "cell_type": "markdown",
   "metadata": {},
   "source": [
    "We can extract elements in the vector by its **index**. Here we are getting the first (position 1) and the fourth (position 4) element in the vector."
   ]
  },
  {
   "cell_type": "code",
   "execution_count": null,
   "metadata": {},
   "outputs": [],
   "source": [
    "myvector[1]"
   ]
  },
  {
   "cell_type": "code",
   "execution_count": null,
   "metadata": {},
   "outputs": [],
   "source": [
    "myvector[4]"
   ]
  },
  {
   "cell_type": "markdown",
   "metadata": {},
   "source": [
    "A **list** can contain elements of different types, for example, numbers or strings, or even vector. We can use the `list()` function to create a list. Values in the list can have names."
   ]
  },
  {
   "cell_type": "code",
   "execution_count": null,
   "metadata": {},
   "outputs": [],
   "source": [
    "mylist <- list(\"USA\"=\"Washington DC\",\"Canada\"=\"Ottawa\",myvector)"
   ]
  },
  {
   "cell_type": "markdown",
   "metadata": {},
   "source": [
    "To see the content of `mylist`, just type its name."
   ]
  },
  {
   "cell_type": "code",
   "execution_count": null,
   "metadata": {},
   "outputs": [],
   "source": [
    "mylist"
   ]
  },
  {
   "cell_type": "markdown",
   "metadata": {},
   "source": [
    "We can get individual elements of the list by the name or the index using **double square brackets**`[[`."
   ]
  },
  {
   "cell_type": "code",
   "execution_count": null,
   "metadata": {},
   "outputs": [],
   "source": [
    "mylist[[\"Canada\"]]"
   ]
  },
  {
   "cell_type": "code",
   "execution_count": null,
   "metadata": {},
   "outputs": [],
   "source": [
    "mylist[[3]]"
   ]
  },
  {
   "cell_type": "markdown",
   "metadata": {},
   "source": [
    "The `attributes` function gets all the names in the list."
   ]
  },
  {
   "cell_type": "code",
   "execution_count": null,
   "metadata": {},
   "outputs": [],
   "source": [
    "attributes(mylist)"
   ]
  },
  {
   "cell_type": "markdown",
   "metadata": {},
   "source": [
    "### R functions\n",
    "A **function** in R performs some calculations on input variables called **arguments** that are inside a **round bracket**. For example the `log10()` function calculates the base 10 logarithm of the number passed in the round bracket."
   ]
  },
  {
   "cell_type": "code",
   "execution_count": null,
   "metadata": {},
   "outputs": [],
   "source": [
    "log10(100)"
   ]
  },
  {
   "cell_type": "markdown",
   "metadata": {},
   "source": [
    "The `mean` function calculates the mean of a vector."
   ]
  },
  {
   "cell_type": "code",
   "execution_count": null,
   "metadata": {},
   "outputs": [],
   "source": [
    "mean(myvector)"
   ]
  },
  {
   "cell_type": "markdown",
   "metadata": {},
   "source": [
    "The `table` function takes a vector, finds all the possible unique values in the vector, and calculates the number of times that each value appears in the vector."
   ]
  },
  {
   "cell_type": "code",
   "execution_count": null,
   "metadata": {},
   "outputs": [],
   "source": [
    "class_majors <- c(\"Psychology\",\"Public Health\",\"Biology\",\"Biology\",\"Computer Science\",\"Biology\")\n",
    "table(class_majors)"
   ]
  },
  {
   "cell_type": "markdown",
   "metadata": {},
   "source": [
    "Functions can take multiple arguments. The `log(x,y)` function takes the base `y` logarithm of `x`."
   ]
  },
  {
   "cell_type": "code",
   "execution_count": null,
   "metadata": {},
   "outputs": [],
   "source": [
    "log(16,2)"
   ]
  },
  {
   "cell_type": "code",
   "execution_count": null,
   "metadata": {},
   "outputs": [],
   "source": [
    "log(27,3)"
   ]
  },
  {
   "cell_type": "markdown",
   "metadata": {},
   "source": [
    "### Getting help on functions\n",
    "A lot of functions that come with R or R packages provides **inline help**. This allows you to see how to call the functions and what the functions do.\n",
    "\n",
    "Usually you can just type ? before the function name.\n",
    "\n",
    "Try getting help for the `log` function."
   ]
  },
  {
   "cell_type": "code",
   "execution_count": null,
   "metadata": {},
   "outputs": [],
   "source": [
    "?log"
   ]
  },
  {
   "cell_type": "markdown",
   "metadata": {},
   "source": [
    "And the `mean` function."
   ]
  },
  {
   "cell_type": "code",
   "execution_count": null,
   "metadata": {},
   "outputs": [],
   "source": [
    "?mean"
   ]
  },
  {
   "cell_type": "markdown",
   "metadata": {},
   "source": [
    "Click the disk icon to save this notebook.  To exit this notebook, click \"File\"->\"Close and Shut Down Notebook\".  When you finish using JupyterHub, remember to click \"File\"->\"Hub Control Panel\", then \"Stop My Server\"."
   ]
  },
  {
   "cell_type": "code",
   "execution_count": null,
   "metadata": {},
   "outputs": [],
   "source": []
  }
 ],
 "metadata": {
  "kernelspec": {
   "display_name": "R [conda env:r_4.1]",
   "language": "R",
   "name": "conda-env-r_4.1-r"
  },
  "language_info": {
   "codemirror_mode": "r",
   "file_extension": ".r",
   "mimetype": "text/x-r-source",
   "name": "R",
   "pygments_lexer": "r",
   "version": "4.1.3"
  }
 },
 "nbformat": 4,
 "nbformat_minor": 4
}
